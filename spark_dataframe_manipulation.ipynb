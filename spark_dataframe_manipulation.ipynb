{
 "cells": [
  {
   "cell_type": "code",
   "execution_count": 1,
   "metadata": {
    "collapsed": true,
    "pycharm": {
     "name": "#%%\n"
    }
   },
   "outputs": [],
   "source": [
    "from pyspark.sql import SparkSession"
   ]
  },
  {
   "cell_type": "code",
   "execution_count": 3,
   "outputs": [
    {
     "name": "stdout",
     "output_type": "stream",
     "text": [
      "23/01/10 10:39:58 WARN Utils: Your hostname, alexa-HP-ProBook-450-G8-Notebook-PC resolves to a loopback address: 127.0.1.1; using 192.168.1.74 instead (on interface wlp0s20f3)\n",
      "23/01/10 10:39:58 WARN Utils: Set SPARK_LOCAL_IP if you need to bind to another address\n"
     ]
    },
    {
     "name": "stderr",
     "output_type": "stream",
     "text": [
      "Setting default log level to \"WARN\".\n",
      "To adjust logging level use sc.setLogLevel(newLevel). For SparkR, use setLogLevel(newLevel).\n"
     ]
    },
    {
     "name": "stdout",
     "output_type": "stream",
     "text": [
      "23/01/10 10:39:59 WARN NativeCodeLoader: Unable to load native-hadoop library for your platform... using builtin-java classes where applicable\n",
      "23/01/10 10:40:01 WARN Utils: Service 'SparkUI' could not bind on port 4040. Attempting port 4041.\n"
     ]
    }
   ],
   "source": [
    "spark = SparkSession.builder.appName('SparkDataManipulation').getOrCreate()"
   ],
   "metadata": {
    "collapsed": false,
    "pycharm": {
     "name": "#%%\n"
    }
   }
  },
  {
   "cell_type": "code",
   "execution_count": 12,
   "outputs": [],
   "source": [
    "df = spark.read.csv('test.csv', header=True, inferSchema=True)"
   ],
   "metadata": {
    "collapsed": false,
    "pycharm": {
     "name": "#%%\n"
    }
   }
  },
  {
   "cell_type": "code",
   "execution_count": 13,
   "outputs": [
    {
     "name": "stdout",
     "output_type": "stream",
     "text": [
      "+-----+----+--------+\n",
      "| Name| Age|    City|\n",
      "+-----+----+--------+\n",
      "| Jane|  27|New-York|\n",
      "| John|  29| Atlanta|\n",
      "|  Jen|  33|    null|\n",
      "|  Tom|  40|    null|\n",
      "|  Ron|null|   Ostin|\n",
      "|Shawn|null|    null|\n",
      "+-----+----+--------+\n",
      "\n"
     ]
    }
   ],
   "source": [
    "df.show()"
   ],
   "metadata": {
    "collapsed": false,
    "pycharm": {
     "name": "#%%\n"
    }
   }
  },
  {
   "cell_type": "code",
   "execution_count": 14,
   "outputs": [
    {
     "name": "stdout",
     "output_type": "stream",
     "text": [
      "+----+---+--------+\n",
      "|Name|Age|    City|\n",
      "+----+---+--------+\n",
      "|Jane| 27|New-York|\n",
      "|John| 29| Atlanta|\n",
      "+----+---+--------+\n",
      "\n"
     ]
    }
   ],
   "source": [
    "# Drop all rows with null values\n",
    "\n",
    "df.na.drop().show()"
   ],
   "metadata": {
    "collapsed": false,
    "pycharm": {
     "name": "#%%\n"
    }
   }
  },
  {
   "cell_type": "code",
   "execution_count": 15,
   "outputs": [
    {
     "name": "stdout",
     "output_type": "stream",
     "text": [
      "+-----+----+--------+\n",
      "| Name| Age|    City|\n",
      "+-----+----+--------+\n",
      "| Jane|  27|New-York|\n",
      "| John|  29| Atlanta|\n",
      "|  Jen|  33|    null|\n",
      "|  Tom|  40|    null|\n",
      "|  Ron|null|   Ostin|\n",
      "|Shawn|null|    null|\n",
      "+-----+----+--------+\n",
      "\n"
     ]
    }
   ],
   "source": [
    "# Drop with 'how' option\n",
    "# 'all' means that all columns should have null value\n",
    "# 'any' used by default\n",
    "\n",
    "df.na.drop(how='all').show()"
   ],
   "metadata": {
    "collapsed": false,
    "pycharm": {
     "name": "#%%\n"
    }
   }
  },
  {
   "cell_type": "code",
   "execution_count": 16,
   "outputs": [
    {
     "name": "stdout",
     "output_type": "stream",
     "text": [
      "+----+----+--------+\n",
      "|Name| Age|    City|\n",
      "+----+----+--------+\n",
      "|Jane|  27|New-York|\n",
      "|John|  29| Atlanta|\n",
      "| Jen|  33|    null|\n",
      "| Tom|  40|    null|\n",
      "| Ron|null|   Ostin|\n",
      "+----+----+--------+\n",
      "\n"
     ]
    }
   ],
   "source": [
    "# Drop with 'thresh' option\n",
    "# with 'thresh' option we can limit how many non-null values in row should\n",
    "# be so that we keep this row in dataframe\n",
    "\n",
    "df.na.drop(thresh=2).show()"
   ],
   "metadata": {
    "collapsed": false,
    "pycharm": {
     "name": "#%%\n"
    }
   }
  },
  {
   "cell_type": "code",
   "execution_count": 17,
   "outputs": [
    {
     "name": "stdout",
     "output_type": "stream",
     "text": [
      "+----+----+--------+\n",
      "|Name| Age|    City|\n",
      "+----+----+--------+\n",
      "|Jane|  27|New-York|\n",
      "|John|  29| Atlanta|\n",
      "| Ron|null|   Ostin|\n",
      "+----+----+--------+\n",
      "\n"
     ]
    }
   ],
   "source": [
    "# Drop with 'subset' option\n",
    "# With this option we can point columns so that\n",
    "# if row has a null value in these columns, we delete this row\n",
    "\n",
    "df.na.drop(subset=['City']).show()"
   ],
   "metadata": {
    "collapsed": false,
    "pycharm": {
     "name": "#%%\n"
    }
   }
  },
  {
   "cell_type": "code",
   "execution_count": 19,
   "outputs": [
    {
     "name": "stdout",
     "output_type": "stream",
     "text": [
      "+-----+----+--------+\n",
      "| Name| Age|    City|\n",
      "+-----+----+--------+\n",
      "| Jane|  27|New-York|\n",
      "| John|  29| Atlanta|\n",
      "|  Jen|  33|   value|\n",
      "|  Tom|  40|   value|\n",
      "|  Ron|null|   Ostin|\n",
      "|Shawn|null|   value|\n",
      "+-----+----+--------+\n",
      "\n"
     ]
    }
   ],
   "source": [
    "df.na.fill('value').show()"
   ],
   "metadata": {
    "collapsed": false,
    "pycharm": {
     "name": "#%%\n"
    }
   }
  },
  {
   "cell_type": "code",
   "execution_count": 21,
   "outputs": [
    {
     "name": "stdout",
     "output_type": "stream",
     "text": [
      "Collecting numpy\r\n",
      "  Using cached numpy-1.24.1-cp310-cp310-manylinux_2_17_x86_64.manylinux2014_x86_64.whl (17.3 MB)\r\n",
      "Installing collected packages: numpy\r\n",
      "Successfully installed numpy-1.24.1\r\n"
     ]
    }
   ],
   "source": [
    "!pip install numpy"
   ],
   "metadata": {
    "collapsed": false,
    "pycharm": {
     "name": "#%%\n"
    }
   }
  },
  {
   "cell_type": "code",
   "execution_count": 27,
   "outputs": [],
   "source": [
    "# Fill with mean values\n",
    "# We should use Imputer function\n",
    "\n",
    "from pyspark.ml.feature import Imputer\n",
    "\n",
    "imputer = Imputer(\n",
    "    inputCols=['Age'],\n",
    "    outputCols=[f'{c}_imputed' for c in ['Age']]\n",
    ").setStrategy('mean')"
   ],
   "metadata": {
    "collapsed": false,
    "pycharm": {
     "name": "#%%\n"
    }
   }
  },
  {
   "cell_type": "code",
   "execution_count": 28,
   "outputs": [
    {
     "name": "stdout",
     "output_type": "stream",
     "text": [
      "+-----+----+--------+-----------+\n",
      "| Name| Age|    City|Age_imputed|\n",
      "+-----+----+--------+-----------+\n",
      "| Jane|  27|New-York|         27|\n",
      "| John|  29| Atlanta|         29|\n",
      "|  Jen|  33|    null|         33|\n",
      "|  Tom|  40|    null|         40|\n",
      "|  Ron|null|   Ostin|         32|\n",
      "|Shawn|null|    null|         32|\n",
      "+-----+----+--------+-----------+\n",
      "\n"
     ]
    }
   ],
   "source": [
    "imputer.fit(df).transform(df).show()"
   ],
   "metadata": {
    "collapsed": false,
    "pycharm": {
     "name": "#%%\n"
    }
   }
  },
  {
   "cell_type": "code",
   "execution_count": 29,
   "outputs": [
    {
     "name": "stdout",
     "output_type": "stream",
     "text": [
      "+-----+----+--------+\n",
      "| Name| Age|    City|\n",
      "+-----+----+--------+\n",
      "| Jane|  27|New-York|\n",
      "| John|  29| Atlanta|\n",
      "|  Jen|  33|    null|\n",
      "|  Tom|  40|    null|\n",
      "|  Ron|null|   Ostin|\n",
      "|Shawn|null|    null|\n",
      "+-----+----+--------+\n",
      "\n"
     ]
    }
   ],
   "source": [
    "df.show()"
   ],
   "metadata": {
    "collapsed": false,
    "pycharm": {
     "name": "#%%\n"
    }
   }
  },
  {
   "cell_type": "markdown",
   "source": [
    "### Filter operations"
   ],
   "metadata": {
    "collapsed": false,
    "pycharm": {
     "name": "#%% md\n"
    }
   }
  },
  {
   "cell_type": "code",
   "execution_count": null,
   "outputs": [],
   "source": [],
   "metadata": {
    "collapsed": false,
    "pycharm": {
     "name": "#%%\n"
    }
   }
  },
  {
   "cell_type": "code",
   "execution_count": null,
   "outputs": [],
   "source": [],
   "metadata": {
    "collapsed": false,
    "pycharm": {
     "name": "#%%\n"
    }
   }
  },
  {
   "cell_type": "code",
   "execution_count": null,
   "outputs": [],
   "source": [],
   "metadata": {
    "collapsed": false,
    "pycharm": {
     "name": "#%%\n"
    }
   }
  }
 ],
 "metadata": {
  "kernelspec": {
   "display_name": "Python 3",
   "language": "python",
   "name": "python3"
  },
  "language_info": {
   "codemirror_mode": {
    "name": "ipython",
    "version": 2
   },
   "file_extension": ".py",
   "mimetype": "text/x-python",
   "name": "python",
   "nbconvert_exporter": "python",
   "pygments_lexer": "ipython2",
   "version": "2.7.6"
  }
 },
 "nbformat": 4,
 "nbformat_minor": 0
}