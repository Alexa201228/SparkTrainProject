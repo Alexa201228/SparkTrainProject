{
 "cells": [
  {
   "cell_type": "code",
   "execution_count": 1,
   "metadata": {
    "collapsed": true,
    "pycharm": {
     "name": "#%%\n"
    }
   },
   "outputs": [],
   "source": [
    "from pyspark.sql import SparkSession"
   ]
  },
  {
   "cell_type": "code",
   "execution_count": 3,
   "outputs": [],
   "source": [
    "spark = SparkSession.builder.appName('SparkPredictions').getOrCreate()"
   ],
   "metadata": {
    "collapsed": false,
    "pycharm": {
     "name": "#%%\n"
    }
   }
  },
  {
   "cell_type": "code",
   "execution_count": 7,
   "outputs": [],
   "source": [
    "df = spark.read.csv('tips.csv', header=True, inferSchema=True)"
   ],
   "metadata": {
    "collapsed": false,
    "pycharm": {
     "name": "#%%\n"
    }
   }
  },
  {
   "cell_type": "code",
   "execution_count": 8,
   "outputs": [
    {
     "name": "stdout",
     "output_type": "stream",
     "text": [
      "+----------+----+------+------+---+---------+----+\n",
      "|total_bill| tip|   sex|smoker|day|     time|size|\n",
      "+----------+----+------+------+---+---------+----+\n",
      "|     16.99|1.01|Female|    No|Sun|   Dinner|   2|\n",
      "|     10.34|1.66|  Male|    No|Sun|   Dinner|   3|\n",
      "|     21.01| 3.5|  Male|    No|Sat|   Dinner|   3|\n",
      "|     23.68|3.31|  Male|    No|Fri|   Dinner|   2|\n",
      "|     24.59|3.61|Female|    No|Sun|   Dinner|   4|\n",
      "|     25.29|4.71|  Male|    No|Mon|   Dinner|   4|\n",
      "|      8.77| 2.0|  Male|    No|Sun|Breakfast|   2|\n",
      "|     26.88|3.12|  Male|    No|Tue|   Dinner|   4|\n",
      "|     15.04|1.96|  Male|    No|Sun|   Dinner|   2|\n",
      "|     14.78|3.23|  Male|    No|Sun|   Dinner|   2|\n",
      "|     10.27|1.71|  Male|    No|Sun|    Lunch|   2|\n",
      "|     35.26| 5.0|Female|    No|Sun|   Dinner|   4|\n",
      "|     15.42|1.57|  Male|    No|Sun|   Dinner|   2|\n",
      "|     18.43| 3.0|  Male|    No|Sun|   Dinner|   4|\n",
      "|     14.83|3.02|Female|    No|Sun|   Supper|   2|\n",
      "|     21.58|3.92|  Male|    No|Sun|   Dinner|   2|\n",
      "|     10.33|1.67|Female|    No|Sun|   Dinner|   3|\n",
      "|     16.29|3.71|  Male|    No|Sun|   Dinner|   3|\n",
      "|     16.97| 3.5|Female|    No|Sun|   Dinner|   3|\n",
      "|     20.65|3.35|  Male|    No|Sat|   Dinner|   3|\n",
      "+----------+----+------+------+---+---------+----+\n",
      "only showing top 20 rows\n",
      "\n"
     ]
    }
   ],
   "source": [
    "df.show()"
   ],
   "metadata": {
    "collapsed": false,
    "pycharm": {
     "name": "#%%\n"
    }
   }
  },
  {
   "cell_type": "markdown",
   "source": [
    "### Handling categorical features"
   ],
   "metadata": {
    "collapsed": false,
    "pycharm": {
     "name": "#%% md\n"
    }
   }
  },
  {
   "cell_type": "code",
   "execution_count": 6,
   "outputs": [],
   "source": [
    "from pyspark.ml.feature import StringIndexer"
   ],
   "metadata": {
    "collapsed": false,
    "pycharm": {
     "name": "#%%\n"
    }
   }
  },
  {
   "cell_type": "code",
   "execution_count": 9,
   "outputs": [
    {
     "name": "stdout",
     "output_type": "stream",
     "text": [
      "+----------+----+------+------+---+---------+----+-----------+--------------+-----------+------------+\n",
      "|total_bill| tip|   sex|smoker|day|     time|size|sex_indexed|smoker_indexed|day_indexed|time_indexed|\n",
      "+----------+----+------+------+---+---------+----+-----------+--------------+-----------+------------+\n",
      "|     16.99|1.01|Female|    No|Sun|   Dinner|   2|        1.0|           0.0|        1.0|         0.0|\n",
      "|     10.34|1.66|  Male|    No|Sun|   Dinner|   3|        0.0|           0.0|        1.0|         0.0|\n",
      "|     21.01| 3.5|  Male|    No|Sat|   Dinner|   3|        0.0|           0.0|        0.0|         0.0|\n",
      "|     23.68|3.31|  Male|    No|Fri|   Dinner|   2|        0.0|           0.0|        3.0|         0.0|\n",
      "|     24.59|3.61|Female|    No|Sun|   Dinner|   4|        1.0|           0.0|        1.0|         0.0|\n",
      "|     25.29|4.71|  Male|    No|Mon|   Dinner|   4|        0.0|           0.0|        4.0|         0.0|\n",
      "|      8.77| 2.0|  Male|    No|Sun|Breakfast|   2|        0.0|           0.0|        1.0|         2.0|\n",
      "|     26.88|3.12|  Male|    No|Tue|   Dinner|   4|        0.0|           0.0|        5.0|         0.0|\n",
      "|     15.04|1.96|  Male|    No|Sun|   Dinner|   2|        0.0|           0.0|        1.0|         0.0|\n",
      "|     14.78|3.23|  Male|    No|Sun|   Dinner|   2|        0.0|           0.0|        1.0|         0.0|\n",
      "|     10.27|1.71|  Male|    No|Sun|    Lunch|   2|        0.0|           0.0|        1.0|         1.0|\n",
      "|     35.26| 5.0|Female|    No|Sun|   Dinner|   4|        1.0|           0.0|        1.0|         0.0|\n",
      "|     15.42|1.57|  Male|    No|Sun|   Dinner|   2|        0.0|           0.0|        1.0|         0.0|\n",
      "|     18.43| 3.0|  Male|    No|Sun|   Dinner|   4|        0.0|           0.0|        1.0|         0.0|\n",
      "|     14.83|3.02|Female|    No|Sun|   Supper|   2|        1.0|           0.0|        1.0|         3.0|\n",
      "|     21.58|3.92|  Male|    No|Sun|   Dinner|   2|        0.0|           0.0|        1.0|         0.0|\n",
      "|     10.33|1.67|Female|    No|Sun|   Dinner|   3|        1.0|           0.0|        1.0|         0.0|\n",
      "|     16.29|3.71|  Male|    No|Sun|   Dinner|   3|        0.0|           0.0|        1.0|         0.0|\n",
      "|     16.97| 3.5|Female|    No|Sun|   Dinner|   3|        1.0|           0.0|        1.0|         0.0|\n",
      "|     20.65|3.35|  Male|    No|Sat|   Dinner|   3|        0.0|           0.0|        0.0|         0.0|\n",
      "+----------+----+------+------+---+---------+----+-----------+--------------+-----------+------------+\n",
      "only showing top 20 rows\n",
      "\n"
     ]
    }
   ],
   "source": [
    "indexer = StringIndexer(inputCols=['sex', 'smoker', 'day', 'time'],\n",
    "                        outputCols=['sex_indexed', 'smoker_indexed', 'day_indexed', 'time_indexed'])\n",
    "\n",
    "df_indexed = indexer.fit(df).transform(df)\n",
    "df_indexed.show()"
   ],
   "metadata": {
    "collapsed": false,
    "pycharm": {
     "name": "#%%\n"
    }
   }
  },
  {
   "cell_type": "code",
   "execution_count": 10,
   "outputs": [],
   "source": [
    "from pyspark.ml.feature import VectorAssembler\n",
    "\n",
    "feature_assembler = VectorAssembler(\n",
    "    inputCols=['tip', 'size', 'sex_indexed', 'smoker_indexed', 'day_indexed', 'time_indexed'],\n",
    "    outputCol='Independent Features'\n",
    ")\n",
    "\n",
    "output = feature_assembler.transform(df_indexed)"
   ],
   "metadata": {
    "collapsed": false,
    "pycharm": {
     "name": "#%%\n"
    }
   }
  },
  {
   "cell_type": "code",
   "execution_count": 11,
   "outputs": [
    {
     "name": "stdout",
     "output_type": "stream",
     "text": [
      "+----------+----+------+------+---+---------+----+-----------+--------------+-----------+------------+--------------------+\n",
      "|total_bill| tip|   sex|smoker|day|     time|size|sex_indexed|smoker_indexed|day_indexed|time_indexed|Independent Features|\n",
      "+----------+----+------+------+---+---------+----+-----------+--------------+-----------+------------+--------------------+\n",
      "|     16.99|1.01|Female|    No|Sun|   Dinner|   2|        1.0|           0.0|        1.0|         0.0|[1.01,2.0,1.0,0.0...|\n",
      "|     10.34|1.66|  Male|    No|Sun|   Dinner|   3|        0.0|           0.0|        1.0|         0.0|[1.66,3.0,0.0,0.0...|\n",
      "|     21.01| 3.5|  Male|    No|Sat|   Dinner|   3|        0.0|           0.0|        0.0|         0.0| (6,[0,1],[3.5,3.0])|\n",
      "|     23.68|3.31|  Male|    No|Fri|   Dinner|   2|        0.0|           0.0|        3.0|         0.0|[3.31,2.0,0.0,0.0...|\n",
      "|     24.59|3.61|Female|    No|Sun|   Dinner|   4|        1.0|           0.0|        1.0|         0.0|[3.61,4.0,1.0,0.0...|\n",
      "|     25.29|4.71|  Male|    No|Mon|   Dinner|   4|        0.0|           0.0|        4.0|         0.0|[4.71,4.0,0.0,0.0...|\n",
      "|      8.77| 2.0|  Male|    No|Sun|Breakfast|   2|        0.0|           0.0|        1.0|         2.0|[2.0,2.0,0.0,0.0,...|\n",
      "|     26.88|3.12|  Male|    No|Tue|   Dinner|   4|        0.0|           0.0|        5.0|         0.0|[3.12,4.0,0.0,0.0...|\n",
      "|     15.04|1.96|  Male|    No|Sun|   Dinner|   2|        0.0|           0.0|        1.0|         0.0|[1.96,2.0,0.0,0.0...|\n",
      "|     14.78|3.23|  Male|    No|Sun|   Dinner|   2|        0.0|           0.0|        1.0|         0.0|[3.23,2.0,0.0,0.0...|\n",
      "|     10.27|1.71|  Male|    No|Sun|    Lunch|   2|        0.0|           0.0|        1.0|         1.0|[1.71,2.0,0.0,0.0...|\n",
      "|     35.26| 5.0|Female|    No|Sun|   Dinner|   4|        1.0|           0.0|        1.0|         0.0|[5.0,4.0,1.0,0.0,...|\n",
      "|     15.42|1.57|  Male|    No|Sun|   Dinner|   2|        0.0|           0.0|        1.0|         0.0|[1.57,2.0,0.0,0.0...|\n",
      "|     18.43| 3.0|  Male|    No|Sun|   Dinner|   4|        0.0|           0.0|        1.0|         0.0|[3.0,4.0,0.0,0.0,...|\n",
      "|     14.83|3.02|Female|    No|Sun|   Supper|   2|        1.0|           0.0|        1.0|         3.0|[3.02,2.0,1.0,0.0...|\n",
      "|     21.58|3.92|  Male|    No|Sun|   Dinner|   2|        0.0|           0.0|        1.0|         0.0|[3.92,2.0,0.0,0.0...|\n",
      "|     10.33|1.67|Female|    No|Sun|   Dinner|   3|        1.0|           0.0|        1.0|         0.0|[1.67,3.0,1.0,0.0...|\n",
      "|     16.29|3.71|  Male|    No|Sun|   Dinner|   3|        0.0|           0.0|        1.0|         0.0|[3.71,3.0,0.0,0.0...|\n",
      "|     16.97| 3.5|Female|    No|Sun|   Dinner|   3|        1.0|           0.0|        1.0|         0.0|[3.5,3.0,1.0,0.0,...|\n",
      "|     20.65|3.35|  Male|    No|Sat|   Dinner|   3|        0.0|           0.0|        0.0|         0.0|(6,[0,1],[3.35,3.0])|\n",
      "+----------+----+------+------+---+---------+----+-----------+--------------+-----------+------------+--------------------+\n",
      "only showing top 20 rows\n",
      "\n"
     ]
    }
   ],
   "source": [
    "output.show()"
   ],
   "metadata": {
    "collapsed": false,
    "pycharm": {
     "name": "#%%\n"
    }
   }
  },
  {
   "cell_type": "code",
   "execution_count": 12,
   "outputs": [],
   "source": [
    "finalized_data = output.select(['Independent Features', 'total_bill'])"
   ],
   "metadata": {
    "collapsed": false,
    "pycharm": {
     "name": "#%%\n"
    }
   }
  },
  {
   "cell_type": "code",
   "execution_count": 13,
   "outputs": [
    {
     "name": "stdout",
     "output_type": "stream",
     "text": [
      "23/01/10 13:51:56 WARN Instrumentation: [7ce2f583] regParam is zero, which might cause numerical instability and overfitting.\n"
     ]
    }
   ],
   "source": [
    "from pyspark.ml.regression import LinearRegression\n",
    "\n",
    "train_data, test_data = finalized_data.randomSplit([0.75, 0.25])\n",
    "regression = LinearRegression(featuresCol='Independent Features', labelCol='total_bill')\n",
    "regressor = regression.fit(train_data)"
   ],
   "metadata": {
    "collapsed": false,
    "pycharm": {
     "name": "#%%\n"
    }
   }
  },
  {
   "cell_type": "code",
   "execution_count": 14,
   "outputs": [
    {
     "data": {
      "text/plain": "DenseVector([3.1087, 3.3866, -0.6019, 2.9328, -0.1926, -1.0811])"
     },
     "execution_count": 14,
     "metadata": {},
     "output_type": "execute_result"
    }
   ],
   "source": [
    "regressor.coefficients"
   ],
   "metadata": {
    "collapsed": false,
    "pycharm": {
     "name": "#%%\n"
    }
   }
  },
  {
   "cell_type": "code",
   "execution_count": 15,
   "outputs": [
    {
     "data": {
      "text/plain": "1.4762055716500542"
     },
     "execution_count": 15,
     "metadata": {},
     "output_type": "execute_result"
    }
   ],
   "source": [
    "regressor.intercept"
   ],
   "metadata": {
    "collapsed": false,
    "pycharm": {
     "name": "#%%\n"
    }
   }
  },
  {
   "cell_type": "code",
   "execution_count": 17,
   "outputs": [
    {
     "name": "stdout",
     "output_type": "stream",
     "text": [
      "+--------------------+----------+------------------+\n",
      "|Independent Features|total_bill|        prediction|\n",
      "+--------------------+----------+------------------+\n",
      "|(6,[0,1],[1.45,2.0])|      9.55|12.757121126170256|\n",
      "| (6,[0,1],[2.0,3.0])|     16.31|17.853554016158448|\n",
      "|(6,[0,1],[2.01,2.0])|     20.23|14.498000765440375|\n",
      "|(6,[0,1],[2.24,3.0])|     16.04|18.599645290131356|\n",
      "|(6,[0,1],[2.31,3.0])|     18.69|18.817255245040123|\n",
      "|(6,[0,1],[3.18,2.0])|     19.82|18.135195726058306|\n",
      "| (6,[0,1],[3.6,3.0])|     24.06|22.827495842644502|\n",
      "|(6,[0,1],[5.92,3.0])|     29.03| 30.03971149104928|\n",
      "|[1.44,2.0,0.0,1.0...|      7.74|15.658794826325868|\n",
      "|[1.5,2.0,0.0,0.0,...|     19.08|11.446286182544954|\n",
      "|[1.5,2.0,0.0,1.0,...|     11.59|15.845317644819096|\n",
      "|[1.5,2.0,0.0,1.0,...|     15.69|15.652715759717934|\n",
      "|[1.61,2.0,1.0,1.0...|     10.59|15.585355551316209|\n",
      "|[1.63,2.0,1.0,0.0...|     11.87|11.248498361873141|\n",
      "|[1.64,2.0,0.0,1.0...|     15.36|16.280537554636627|\n",
      "|[1.66,3.0,0.0,0.0...|     10.34|   16.603989492929|\n",
      "|[1.83,1.0,1.0,0.0...|     10.07| 8.483600703050291|\n",
      "|[1.98,2.0,0.0,1.0...|     11.02|17.337500192764914|\n",
      "|[2.0,2.0,0.0,0.0,...|      7.51|13.000643003321846|\n",
      "|[2.0,2.0,0.0,0.0,...|     13.03|13.000643003321846|\n",
      "+--------------------+----------+------------------+\n",
      "only showing top 20 rows\n",
      "\n"
     ]
    },
    {
     "data": {
      "text/plain": "0.47970762948749046"
     },
     "execution_count": 17,
     "metadata": {},
     "output_type": "execute_result"
    }
   ],
   "source": [
    "pred = regressor.evaluate(test_data)\n",
    "pred.predictions.show()\n",
    "pred.r2"
   ],
   "metadata": {
    "collapsed": false,
    "pycharm": {
     "name": "#%%\n"
    }
   }
  }
 ],
 "metadata": {
  "kernelspec": {
   "display_name": "Python 3",
   "language": "python",
   "name": "python3"
  },
  "language_info": {
   "codemirror_mode": {
    "name": "ipython",
    "version": 2
   },
   "file_extension": ".py",
   "mimetype": "text/x-python",
   "name": "python",
   "nbconvert_exporter": "python",
   "pygments_lexer": "ipython2",
   "version": "2.7.6"
  }
 },
 "nbformat": 4,
 "nbformat_minor": 0
}