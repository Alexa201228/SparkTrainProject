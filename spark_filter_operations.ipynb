{
 "cells": [
  {
   "cell_type": "code",
   "execution_count": 1,
   "metadata": {
    "collapsed": true,
    "pycharm": {
     "name": "#%%\n"
    }
   },
   "outputs": [],
   "source": [
    "from pyspark.sql import SparkSession"
   ]
  },
  {
   "cell_type": "code",
   "execution_count": 2,
   "outputs": [
    {
     "name": "stdout",
     "output_type": "stream",
     "text": [
      "23/01/10 11:37:04 WARN Utils: Your hostname, alexa-HP-ProBook-450-G8-Notebook-PC resolves to a loopback address: 127.0.1.1; using 192.168.1.74 instead (on interface wlp0s20f3)\n",
      "23/01/10 11:37:04 WARN Utils: Set SPARK_LOCAL_IP if you need to bind to another address\n"
     ]
    },
    {
     "name": "stderr",
     "output_type": "stream",
     "text": [
      "Setting default log level to \"WARN\".\n",
      "To adjust logging level use sc.setLogLevel(newLevel). For SparkR, use setLogLevel(newLevel).\n"
     ]
    },
    {
     "name": "stdout",
     "output_type": "stream",
     "text": [
      "23/01/10 11:37:05 WARN NativeCodeLoader: Unable to load native-hadoop library for your platform... using builtin-java classes where applicable\n",
      "23/01/10 11:37:06 WARN Utils: Service 'SparkUI' could not bind on port 4040. Attempting port 4041.\n",
      "23/01/10 11:37:06 WARN Utils: Service 'SparkUI' could not bind on port 4041. Attempting port 4042.\n"
     ]
    }
   ],
   "source": [
    "spark = SparkSession.builder.appName('SparkFilterOperations').getOrCreate()"
   ],
   "metadata": {
    "collapsed": false,
    "pycharm": {
     "name": "#%%\n"
    }
   }
  },
  {
   "cell_type": "code",
   "execution_count": 4,
   "outputs": [
    {
     "name": "stdout",
     "output_type": "stream",
     "text": [
      "+-----+----+--------+------+\n",
      "| Name| Age|    City|Salary|\n",
      "+-----+----+--------+------+\n",
      "| Jane|  27|New-York| 65000|\n",
      "| John|  29| Atlanta| 78000|\n",
      "|  Jen|  33|    null| 77000|\n",
      "|  Tom|  40|    null| 75000|\n",
      "|  Ron|null|   Ostin| 73000|\n",
      "|Shawn|null|    null| 69000|\n",
      "+-----+----+--------+------+\n",
      "\n"
     ]
    }
   ],
   "source": [
    "df = spark.read.csv('test.csv', header=True, inferSchema=True)\n",
    "df.show()"
   ],
   "metadata": {
    "collapsed": false,
    "pycharm": {
     "name": "#%%\n"
    }
   }
  },
  {
   "cell_type": "markdown",
   "source": [
    "### Filter operations"
   ],
   "metadata": {
    "collapsed": false,
    "pycharm": {
     "name": "#%% md\n"
    }
   }
  },
  {
   "cell_type": "code",
   "execution_count": 5,
   "outputs": [
    {
     "name": "stdout",
     "output_type": "stream",
     "text": [
      "+-----+----+--------+------+\n",
      "| Name| Age|    City|Salary|\n",
      "+-----+----+--------+------+\n",
      "| Jane|  27|New-York| 65000|\n",
      "|Shawn|null|    null| 69000|\n",
      "+-----+----+--------+------+\n",
      "\n"
     ]
    }
   ],
   "source": [
    "df.filter('Salary < 70000').show()"
   ],
   "metadata": {
    "collapsed": false,
    "pycharm": {
     "name": "#%%\n"
    }
   }
  },
  {
   "cell_type": "code",
   "execution_count": 6,
   "outputs": [
    {
     "name": "stdout",
     "output_type": "stream",
     "text": [
      "+----+-----+--------+\n",
      "| Age| Name|    City|\n",
      "+----+-----+--------+\n",
      "|  27| Jane|New-York|\n",
      "|null|Shawn|    null|\n",
      "+----+-----+--------+\n",
      "\n"
     ]
    }
   ],
   "source": [
    "df.filter('Salary < 70000').select(['Age', 'Name', 'City']).show()"
   ],
   "metadata": {
    "collapsed": false,
    "pycharm": {
     "name": "#%%\n"
    }
   }
  },
  {
   "cell_type": "code",
   "execution_count": 10,
   "outputs": [
    {
     "name": "stdout",
     "output_type": "stream",
     "text": [
      "+----+----+-------+------+\n",
      "|Name| Age|   City|Salary|\n",
      "+----+----+-------+------+\n",
      "|John|  29|Atlanta| 78000|\n",
      "| Jen|  33|   null| 77000|\n",
      "| Tom|  40|   null| 75000|\n",
      "| Ron|null|  Ostin| 73000|\n",
      "+----+----+-------+------+\n",
      "\n"
     ]
    }
   ],
   "source": [
    "df.filter((df['Salary'] < 79000 ) & (df['Salary'] > 70000)).show()"
   ],
   "metadata": {
    "collapsed": false,
    "pycharm": {
     "name": "#%%\n"
    }
   }
  },
  {
   "cell_type": "code",
   "execution_count": 11,
   "outputs": [
    {
     "name": "stdout",
     "output_type": "stream",
     "text": [
      "+-----+----+--------+------+\n",
      "| Name| Age|    City|Salary|\n",
      "+-----+----+--------+------+\n",
      "| Jane|  27|New-York| 65000|\n",
      "|Shawn|null|    null| 69000|\n",
      "+-----+----+--------+------+\n",
      "\n"
     ]
    }
   ],
   "source": [
    "#Not condition\n",
    "\n",
    "df.filter(~((df['Salary'] < 79000 ) & (df['Salary'] > 70000))).show()\n"
   ],
   "metadata": {
    "collapsed": false,
    "pycharm": {
     "name": "#%%\n"
    }
   }
  }
 ],
 "metadata": {
  "kernelspec": {
   "display_name": "Python 3",
   "language": "python",
   "name": "python3"
  },
  "language_info": {
   "codemirror_mode": {
    "name": "ipython",
    "version": 2
   },
   "file_extension": ".py",
   "mimetype": "text/x-python",
   "name": "python",
   "nbconvert_exporter": "python",
   "pygments_lexer": "ipython2",
   "version": "2.7.6"
  }
 },
 "nbformat": 4,
 "nbformat_minor": 0
}